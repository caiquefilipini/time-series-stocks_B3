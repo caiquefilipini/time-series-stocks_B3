{
 "cells": [
  {
   "cell_type": "markdown",
   "metadata": {},
   "source": [
    "## 01 - Load Data"
   ]
  },
  {
   "cell_type": "markdown",
   "metadata": {},
   "source": [
    "___"
   ]
  },
  {
   "cell_type": "markdown",
   "metadata": {},
   "source": [
    "### 01.1 - Importando as bibliotecas"
   ]
  },
  {
   "cell_type": "code",
   "execution_count": 55,
   "metadata": {
    "ExecuteTime": {
     "end_time": "2020-05-29T10:45:52.372986Z",
     "start_time": "2020-05-29T10:45:27.641748Z"
    }
   },
   "outputs": [],
   "source": [
    "# bibliotecas básicas\n",
    "import os\n",
    "import sys\n",
    "import numpy as np\n",
    "import pandas as pd\n",
    "\n",
    "# bibliotecas para web scrapping\n",
    "from pandas_datareader import data as web\n",
    "import quandl\n",
    "import requests\n",
    "from bs4 import BeautifulSoup\n",
    "from urllib.request import Request, urlopen\n",
    "\n",
    "# configurações\n",
    "import warnings\n",
    "warnings.filterwarnings('ignore')\n",
    "pd.set_option('display.max_rows', 500)\n",
    "pd.set_option('display.max_columns', None)"
   ]
  },
  {
   "cell_type": "markdown",
   "metadata": {},
   "source": [
    "### 01.2 - Definindo os caminhos"
   ]
  },
  {
   "cell_type": "code",
   "execution_count": 31,
   "metadata": {},
   "outputs": [],
   "source": [
    "THIS_PATH = os.getcwd()\n",
    "ROOT_PATH = os.path.dirname(THIS_PATH)\n",
    "DATA_PATH = os.path.join(ROOT_PATH, 'data')"
   ]
  },
  {
   "cell_type": "markdown",
   "metadata": {},
   "source": [
    "### 01.3 - Carregando os dados"
   ]
  },
  {
   "cell_type": "markdown",
   "metadata": {},
   "source": [
    "Neste projeto, vamos considerar todas as ações que compõem o índice Bovespa.\n",
    "<br>\n",
    "<br>\n",
    "Vamos extrair os seguintes dados:\n",
    "\n",
    "- Preços históricos das ações\n",
    "- Histórico do índice Bovespa\n",
    "- Dados históricos de pagamentos de dividendos e JCP\n",
    "- Dados históricos fundamentalistas\n",
    "- Dados históricos macroeconômicos (Dólar, Selic e IPCA)"
   ]
  },
  {
   "cell_type": "markdown",
   "metadata": {},
   "source": [
    "#### Preços históricos das ações"
   ]
  },
  {
   "cell_type": "code",
   "execution_count": 197,
   "metadata": {},
   "outputs": [],
   "source": [
    "# Extraindo a carteira do Ibovespa\n",
    "url = 'http://bvmf.bmfbovespa.com.br/indices/ResumoCarteiraTeorica.aspx?Indice=IBOV&amp;idioma=pt-br&idioma=pt-br'\n",
    "carteira_ibov = pd.read_html(url, decimal=',', thousands='.')[0][:-1]"
   ]
  },
  {
   "cell_type": "code",
   "execution_count": 198,
   "metadata": {},
   "outputs": [
    {
     "data": {
      "text/html": [
       "<div>\n",
       "<style scoped>\n",
       "    .dataframe tbody tr th:only-of-type {\n",
       "        vertical-align: middle;\n",
       "    }\n",
       "\n",
       "    .dataframe tbody tr th {\n",
       "        vertical-align: top;\n",
       "    }\n",
       "\n",
       "    .dataframe thead th {\n",
       "        text-align: right;\n",
       "    }\n",
       "</style>\n",
       "<table border=\"1\" class=\"dataframe\">\n",
       "  <thead>\n",
       "    <tr style=\"text-align: right;\">\n",
       "      <th></th>\n",
       "      <th>Código</th>\n",
       "      <th>Ação</th>\n",
       "      <th>Tipo</th>\n",
       "      <th>Qtde. Teórica</th>\n",
       "      <th>Part. (%)</th>\n",
       "    </tr>\n",
       "  </thead>\n",
       "  <tbody>\n",
       "    <tr>\n",
       "      <th>70</th>\n",
       "      <td>VALE3</td>\n",
       "      <td>VALE</td>\n",
       "      <td>ON NM</td>\n",
       "      <td>3292010807</td>\n",
       "      <td>10.686</td>\n",
       "    </tr>\n",
       "    <tr>\n",
       "      <th>71</th>\n",
       "      <td>VIVT4</td>\n",
       "      <td>TELEF BRASIL</td>\n",
       "      <td>PN</td>\n",
       "      <td>415131868</td>\n",
       "      <td>1.136</td>\n",
       "    </tr>\n",
       "    <tr>\n",
       "      <th>72</th>\n",
       "      <td>VVAR3</td>\n",
       "      <td>VIAVAREJO</td>\n",
       "      <td>ON NM</td>\n",
       "      <td>1443662628</td>\n",
       "      <td>1.457</td>\n",
       "    </tr>\n",
       "    <tr>\n",
       "      <th>73</th>\n",
       "      <td>WEGE3</td>\n",
       "      <td>WEG</td>\n",
       "      <td>ON NM</td>\n",
       "      <td>689271972</td>\n",
       "      <td>2.501</td>\n",
       "    </tr>\n",
       "    <tr>\n",
       "      <th>74</th>\n",
       "      <td>YDUQ3</td>\n",
       "      <td>YDUQS PART</td>\n",
       "      <td>ON NM</td>\n",
       "      <td>299667897</td>\n",
       "      <td>0.521</td>\n",
       "    </tr>\n",
       "  </tbody>\n",
       "</table>\n",
       "</div>"
      ],
      "text/plain": [
       "   Código          Ação   Tipo Qtde. Teórica  Part. (%)\n",
       "70  VALE3          VALE  ON NM    3292010807     10.686\n",
       "71  VIVT4  TELEF BRASIL     PN     415131868      1.136\n",
       "72  VVAR3     VIAVAREJO  ON NM    1443662628      1.457\n",
       "73  WEGE3           WEG  ON NM     689271972      2.501\n",
       "74  YDUQ3    YDUQS PART  ON NM     299667897      0.521"
      ]
     },
     "execution_count": 198,
     "metadata": {},
     "output_type": "execute_result"
    }
   ],
   "source": [
    "carteira_ibov.tail()"
   ]
  },
  {
   "cell_type": "code",
   "execution_count": 199,
   "metadata": {},
   "outputs": [],
   "source": [
    "# Salvando a carteira do ibovespa em um .csv\n",
    "filename_cart_ibov = 'carteira_ibovespa.csv'\n",
    "carteira_ibov.to_csv(os.path.join(DATA_PATH, filename_cart_ibov))"
   ]
  },
  {
   "cell_type": "code",
   "execution_count": 16,
   "metadata": {},
   "outputs": [],
   "source": [
    "# Identificando os tickers que compõem o índice bovespa\n",
    "tickers = carteira_ibov['Código'].unique().tolist()"
   ]
  },
  {
   "cell_type": "code",
   "execution_count": 17,
   "metadata": {},
   "outputs": [],
   "source": [
    "# Carregando os preços históricos dos tickers\n",
    "stocks = pd.DataFrame()\n",
    "for t in tickers:\n",
    "    try:\n",
    "        aux = web.get_data_yahoo(t, '01/01/2005')\n",
    "    except:\n",
    "        t += '.SA'\n",
    "        aux = web.get_data_yahoo(t, '01/01/2005')\n",
    "    aux['Ticker'] = t\n",
    "    stocks = pd.concat([stocks, aux])"
   ]
  },
  {
   "cell_type": "code",
   "execution_count": 18,
   "metadata": {},
   "outputs": [
    {
     "data": {
      "text/plain": [
       "(225821, 7)"
      ]
     },
     "execution_count": 18,
     "metadata": {},
     "output_type": "execute_result"
    }
   ],
   "source": [
    "stocks.shape"
   ]
  },
  {
   "cell_type": "code",
   "execution_count": 19,
   "metadata": {},
   "outputs": [
    {
     "data": {
      "text/plain": [
       "(Timestamp('2005-01-03 00:00:00'), Timestamp('2020-08-10 00:00:00'))"
      ]
     },
     "execution_count": 19,
     "metadata": {},
     "output_type": "execute_result"
    }
   ],
   "source": [
    "stocks.index.min(), stocks.index.max()"
   ]
  },
  {
   "cell_type": "code",
   "execution_count": 23,
   "metadata": {},
   "outputs": [
    {
     "data": {
      "text/html": [
       "<div>\n",
       "<style scoped>\n",
       "    .dataframe tbody tr th:only-of-type {\n",
       "        vertical-align: middle;\n",
       "    }\n",
       "\n",
       "    .dataframe tbody tr th {\n",
       "        vertical-align: top;\n",
       "    }\n",
       "\n",
       "    .dataframe thead th {\n",
       "        text-align: right;\n",
       "    }\n",
       "</style>\n",
       "<table border=\"1\" class=\"dataframe\">\n",
       "  <thead>\n",
       "    <tr style=\"text-align: right;\">\n",
       "      <th></th>\n",
       "      <th>High</th>\n",
       "      <th>Low</th>\n",
       "      <th>Open</th>\n",
       "      <th>Close</th>\n",
       "      <th>Volume</th>\n",
       "      <th>Adj Close</th>\n",
       "      <th>Ticker</th>\n",
       "    </tr>\n",
       "    <tr>\n",
       "      <th>Date</th>\n",
       "      <th></th>\n",
       "      <th></th>\n",
       "      <th></th>\n",
       "      <th></th>\n",
       "      <th></th>\n",
       "      <th></th>\n",
       "      <th></th>\n",
       "    </tr>\n",
       "  </thead>\n",
       "  <tbody>\n",
       "    <tr>\n",
       "      <th>2020-08-04</th>\n",
       "      <td>33.630001</td>\n",
       "      <td>32.049999</td>\n",
       "      <td>33.599998</td>\n",
       "      <td>32.720001</td>\n",
       "      <td>2285900.0</td>\n",
       "      <td>32.720001</td>\n",
       "      <td>YDUQ3.SA</td>\n",
       "    </tr>\n",
       "    <tr>\n",
       "      <th>2020-08-05</th>\n",
       "      <td>33.450001</td>\n",
       "      <td>32.480000</td>\n",
       "      <td>32.990002</td>\n",
       "      <td>32.750000</td>\n",
       "      <td>1943900.0</td>\n",
       "      <td>32.750000</td>\n",
       "      <td>YDUQ3.SA</td>\n",
       "    </tr>\n",
       "    <tr>\n",
       "      <th>2020-08-06</th>\n",
       "      <td>33.439999</td>\n",
       "      <td>32.459999</td>\n",
       "      <td>33.000000</td>\n",
       "      <td>33.380001</td>\n",
       "      <td>2191900.0</td>\n",
       "      <td>33.380001</td>\n",
       "      <td>YDUQ3.SA</td>\n",
       "    </tr>\n",
       "    <tr>\n",
       "      <th>2020-08-07</th>\n",
       "      <td>33.180000</td>\n",
       "      <td>31.809999</td>\n",
       "      <td>32.970001</td>\n",
       "      <td>32.180000</td>\n",
       "      <td>3020900.0</td>\n",
       "      <td>32.180000</td>\n",
       "      <td>YDUQ3.SA</td>\n",
       "    </tr>\n",
       "    <tr>\n",
       "      <th>2020-08-10</th>\n",
       "      <td>32.459999</td>\n",
       "      <td>31.350000</td>\n",
       "      <td>32.349998</td>\n",
       "      <td>32.029999</td>\n",
       "      <td>3154200.0</td>\n",
       "      <td>32.029999</td>\n",
       "      <td>YDUQ3.SA</td>\n",
       "    </tr>\n",
       "  </tbody>\n",
       "</table>\n",
       "</div>"
      ],
      "text/plain": [
       "                 High        Low       Open      Close     Volume  Adj Close  \\\n",
       "Date                                                                           \n",
       "2020-08-04  33.630001  32.049999  33.599998  32.720001  2285900.0  32.720001   \n",
       "2020-08-05  33.450001  32.480000  32.990002  32.750000  1943900.0  32.750000   \n",
       "2020-08-06  33.439999  32.459999  33.000000  33.380001  2191900.0  33.380001   \n",
       "2020-08-07  33.180000  31.809999  32.970001  32.180000  3020900.0  32.180000   \n",
       "2020-08-10  32.459999  31.350000  32.349998  32.029999  3154200.0  32.029999   \n",
       "\n",
       "              Ticker  \n",
       "Date                  \n",
       "2020-08-04  YDUQ3.SA  \n",
       "2020-08-05  YDUQ3.SA  \n",
       "2020-08-06  YDUQ3.SA  \n",
       "2020-08-07  YDUQ3.SA  \n",
       "2020-08-10  YDUQ3.SA  "
      ]
     },
     "execution_count": 23,
     "metadata": {},
     "output_type": "execute_result"
    }
   ],
   "source": [
    "stocks.tail()"
   ]
  },
  {
   "cell_type": "code",
   "execution_count": 117,
   "metadata": {},
   "outputs": [],
   "source": [
    "stocks['Ticker'] = stocks['Ticker'].apply(lambda x: x.replace('.SA', ''))"
   ]
  },
  {
   "cell_type": "code",
   "execution_count": 167,
   "metadata": {},
   "outputs": [
    {
     "data": {
      "text/html": [
       "<div>\n",
       "<style scoped>\n",
       "    .dataframe tbody tr th:only-of-type {\n",
       "        vertical-align: middle;\n",
       "    }\n",
       "\n",
       "    .dataframe tbody tr th {\n",
       "        vertical-align: top;\n",
       "    }\n",
       "\n",
       "    .dataframe thead th {\n",
       "        text-align: right;\n",
       "    }\n",
       "</style>\n",
       "<table border=\"1\" class=\"dataframe\">\n",
       "  <thead>\n",
       "    <tr style=\"text-align: right;\">\n",
       "      <th></th>\n",
       "      <th>High</th>\n",
       "      <th>Low</th>\n",
       "      <th>Open</th>\n",
       "      <th>Close</th>\n",
       "      <th>Volume</th>\n",
       "      <th>Adj Close</th>\n",
       "      <th>Ticker</th>\n",
       "    </tr>\n",
       "    <tr>\n",
       "      <th>Date</th>\n",
       "      <th></th>\n",
       "      <th></th>\n",
       "      <th></th>\n",
       "      <th></th>\n",
       "      <th></th>\n",
       "      <th></th>\n",
       "      <th></th>\n",
       "    </tr>\n",
       "  </thead>\n",
       "  <tbody>\n",
       "    <tr>\n",
       "      <th>2005-01-03</th>\n",
       "      <td>4.58232</td>\n",
       "      <td>4.58232</td>\n",
       "      <td>4.58232</td>\n",
       "      <td>4.58232</td>\n",
       "      <td>40041.0</td>\n",
       "      <td>0.825290</td>\n",
       "      <td>ABEV3</td>\n",
       "    </tr>\n",
       "    <tr>\n",
       "      <th>2005-01-04</th>\n",
       "      <td>4.61528</td>\n",
       "      <td>4.61528</td>\n",
       "      <td>4.61528</td>\n",
       "      <td>4.61528</td>\n",
       "      <td>72498.0</td>\n",
       "      <td>0.831226</td>\n",
       "      <td>ABEV3</td>\n",
       "    </tr>\n",
       "  </tbody>\n",
       "</table>\n",
       "</div>"
      ],
      "text/plain": [
       "               High      Low     Open    Close   Volume  Adj Close Ticker\n",
       "Date                                                                     \n",
       "2005-01-03  4.58232  4.58232  4.58232  4.58232  40041.0   0.825290  ABEV3\n",
       "2005-01-04  4.61528  4.61528  4.61528  4.61528  72498.0   0.831226  ABEV3"
      ]
     },
     "execution_count": 167,
     "metadata": {},
     "output_type": "execute_result"
    }
   ],
   "source": [
    "stocks.head(2)"
   ]
  },
  {
   "cell_type": "code",
   "execution_count": 168,
   "metadata": {},
   "outputs": [],
   "source": [
    "# Salvando o dataframe de stocks em um .csv\n",
    "filename_stocks = 'stocks.csv'\n",
    "stocks.to_csv(os.path.join(DATA_PATH, filename_stocks))"
   ]
  },
  {
   "cell_type": "code",
   "execution_count": 163,
   "metadata": {},
   "outputs": [],
   "source": [
    "df_setor = pd.DataFrame()\n",
    "\n",
    "# Criando listas auxiliares\n",
    "setor = []\n",
    "subsetor = []\n",
    "\n",
    "for t in tickers:\n",
    "    # Criando o DataFrame principal\n",
    "    df_setor = pd.DataFrame()\n",
    "\n",
    "    # Criando um DataFrame auxiliar\n",
    "    aux2 = pd.DataFrame()\n",
    "\n",
    "    # Definindo a URL\n",
    "    url = 'http://www.fundamentus.com.br/detalhes.php?papel={}'.format(t)\n",
    "\n",
    "    # Informações para fingir ser um navegador\n",
    "    header = {\n",
    "      \"User-Agent\": \"Mozilla/5.0 (X11; Linux x86_64) AppleWebKit/537.36 (KHTML, like Gecko) Chrome/50.0.2661.75 Safari/537.36\",\n",
    "      \"X-Requested-With\": \"XMLHttpRequest\"\n",
    "    }\n",
    "    # Fazendo a request\n",
    "    r = requests.get(url, headers=header)\n",
    "\n",
    "    # Lendo a tabela\n",
    "    aux = pd.read_html(r.text, decimal=',', thousands='.')[0]\n",
    "    setor.append(aux.loc[3, 1])\n",
    "    subsetor.append(aux.loc[4, 1])\n",
    "\n",
    "df_setor['Ticker'] = tickers\n",
    "df_setor['Setor'] = setor\n",
    "df_setor['Subsetor'] = subsetor"
   ]
  },
  {
   "cell_type": "code",
   "execution_count": 164,
   "metadata": {},
   "outputs": [
    {
     "data": {
      "text/html": [
       "<div>\n",
       "<style scoped>\n",
       "    .dataframe tbody tr th:only-of-type {\n",
       "        vertical-align: middle;\n",
       "    }\n",
       "\n",
       "    .dataframe tbody tr th {\n",
       "        vertical-align: top;\n",
       "    }\n",
       "\n",
       "    .dataframe thead th {\n",
       "        text-align: right;\n",
       "    }\n",
       "</style>\n",
       "<table border=\"1\" class=\"dataframe\">\n",
       "  <thead>\n",
       "    <tr style=\"text-align: right;\">\n",
       "      <th></th>\n",
       "      <th>Ticker</th>\n",
       "      <th>Setor</th>\n",
       "      <th>Subsetor</th>\n",
       "    </tr>\n",
       "  </thead>\n",
       "  <tbody>\n",
       "    <tr>\n",
       "      <th>0</th>\n",
       "      <td>ABEV3</td>\n",
       "      <td>Bebidas</td>\n",
       "      <td>Cervejas e Refrigerantes</td>\n",
       "    </tr>\n",
       "    <tr>\n",
       "      <th>1</th>\n",
       "      <td>AZUL4</td>\n",
       "      <td>Transporte</td>\n",
       "      <td>Transporte Aéreo</td>\n",
       "    </tr>\n",
       "    <tr>\n",
       "      <th>2</th>\n",
       "      <td>B3SA3</td>\n",
       "      <td>Serviços Financeiros Diversos</td>\n",
       "      <td>Serviços Financeiros Diversos</td>\n",
       "    </tr>\n",
       "    <tr>\n",
       "      <th>3</th>\n",
       "      <td>BBAS3</td>\n",
       "      <td>Financeiros</td>\n",
       "      <td>Bancos</td>\n",
       "    </tr>\n",
       "    <tr>\n",
       "      <th>4</th>\n",
       "      <td>BBDC3</td>\n",
       "      <td>Financeiros</td>\n",
       "      <td>Bancos</td>\n",
       "    </tr>\n",
       "    <tr>\n",
       "      <th>5</th>\n",
       "      <td>BBDC4</td>\n",
       "      <td>Financeiros</td>\n",
       "      <td>Bancos</td>\n",
       "    </tr>\n",
       "    <tr>\n",
       "      <th>6</th>\n",
       "      <td>BBSE3</td>\n",
       "      <td>Previdência e Seguros</td>\n",
       "      <td>Seguradoras</td>\n",
       "    </tr>\n",
       "    <tr>\n",
       "      <th>7</th>\n",
       "      <td>BEEF3</td>\n",
       "      <td>Alimentos</td>\n",
       "      <td>Carnes e Derivados</td>\n",
       "    </tr>\n",
       "    <tr>\n",
       "      <th>8</th>\n",
       "      <td>BPAC11</td>\n",
       "      <td>Financeiros</td>\n",
       "      <td>Bancos</td>\n",
       "    </tr>\n",
       "    <tr>\n",
       "      <th>9</th>\n",
       "      <td>BRAP4</td>\n",
       "      <td>Holdings Diversificadas</td>\n",
       "      <td>Holdings Diversificadas</td>\n",
       "    </tr>\n",
       "  </tbody>\n",
       "</table>\n",
       "</div>"
      ],
      "text/plain": [
       "   Ticker                          Setor                       Subsetor\n",
       "0   ABEV3                        Bebidas       Cervejas e Refrigerantes\n",
       "1   AZUL4                     Transporte               Transporte Aéreo\n",
       "2   B3SA3  Serviços Financeiros Diversos  Serviços Financeiros Diversos\n",
       "3   BBAS3                    Financeiros                         Bancos\n",
       "4   BBDC3                    Financeiros                         Bancos\n",
       "5   BBDC4                    Financeiros                         Bancos\n",
       "6   BBSE3          Previdência e Seguros                    Seguradoras\n",
       "7   BEEF3                      Alimentos             Carnes e Derivados\n",
       "8  BPAC11                    Financeiros                         Bancos\n",
       "9   BRAP4        Holdings Diversificadas        Holdings Diversificadas"
      ]
     },
     "execution_count": 164,
     "metadata": {},
     "output_type": "execute_result"
    }
   ],
   "source": [
    "df_setor.head(10)"
   ]
  },
  {
   "cell_type": "code",
   "execution_count": 165,
   "metadata": {},
   "outputs": [
    {
     "data": {
      "text/plain": [
       "(75, 3)"
      ]
     },
     "execution_count": 165,
     "metadata": {},
     "output_type": "execute_result"
    }
   ],
   "source": [
    "df_setor.shape"
   ]
  },
  {
   "cell_type": "code",
   "execution_count": 166,
   "metadata": {},
   "outputs": [],
   "source": [
    "# Salvando o dataframe de setor em um .csv\n",
    "filename_setor = 'setores.csv'\n",
    "df_setor.to_csv(os.path.join(DATA_PATH, filename_setor))"
   ]
  },
  {
   "cell_type": "markdown",
   "metadata": {},
   "source": [
    "#### Histórico do índice Bovespa"
   ]
  },
  {
   "cell_type": "code",
   "execution_count": 200,
   "metadata": {},
   "outputs": [],
   "source": [
    "# Carregando os índices históricos do bovespa\n",
    "ticker_ibov = '^BVSP'\n",
    "ibov = web.get_data_yahoo(ticker_ibov, '01/01/2005')\n",
    "ibov['Ticker'] = 'BVSP'"
   ]
  },
  {
   "cell_type": "code",
   "execution_count": 201,
   "metadata": {},
   "outputs": [
    {
     "data": {
      "text/html": [
       "<div>\n",
       "<style scoped>\n",
       "    .dataframe tbody tr th:only-of-type {\n",
       "        vertical-align: middle;\n",
       "    }\n",
       "\n",
       "    .dataframe tbody tr th {\n",
       "        vertical-align: top;\n",
       "    }\n",
       "\n",
       "    .dataframe thead th {\n",
       "        text-align: right;\n",
       "    }\n",
       "</style>\n",
       "<table border=\"1\" class=\"dataframe\">\n",
       "  <thead>\n",
       "    <tr style=\"text-align: right;\">\n",
       "      <th></th>\n",
       "      <th>High</th>\n",
       "      <th>Low</th>\n",
       "      <th>Open</th>\n",
       "      <th>Close</th>\n",
       "      <th>Volume</th>\n",
       "      <th>Adj Close</th>\n",
       "      <th>Ticker</th>\n",
       "    </tr>\n",
       "    <tr>\n",
       "      <th>Date</th>\n",
       "      <th></th>\n",
       "      <th></th>\n",
       "      <th></th>\n",
       "      <th></th>\n",
       "      <th></th>\n",
       "      <th></th>\n",
       "      <th></th>\n",
       "    </tr>\n",
       "  </thead>\n",
       "  <tbody>\n",
       "    <tr>\n",
       "      <th>2005-01-03</th>\n",
       "      <td>26492.0</td>\n",
       "      <td>25671.0</td>\n",
       "      <td>26193.0</td>\n",
       "      <td>25722.0</td>\n",
       "      <td>0.0</td>\n",
       "      <td>25722.0</td>\n",
       "      <td>BVSP</td>\n",
       "    </tr>\n",
       "    <tr>\n",
       "      <th>2005-01-04</th>\n",
       "      <td>25873.0</td>\n",
       "      <td>24791.0</td>\n",
       "      <td>25722.0</td>\n",
       "      <td>24848.0</td>\n",
       "      <td>0.0</td>\n",
       "      <td>24848.0</td>\n",
       "      <td>BVSP</td>\n",
       "    </tr>\n",
       "    <tr>\n",
       "      <th>2005-01-05</th>\n",
       "      <td>25001.0</td>\n",
       "      <td>24523.0</td>\n",
       "      <td>24859.0</td>\n",
       "      <td>24692.0</td>\n",
       "      <td>0.0</td>\n",
       "      <td>24692.0</td>\n",
       "      <td>BVSP</td>\n",
       "    </tr>\n",
       "  </tbody>\n",
       "</table>\n",
       "</div>"
      ],
      "text/plain": [
       "               High      Low     Open    Close  Volume  Adj Close Ticker\n",
       "Date                                                                    \n",
       "2005-01-03  26492.0  25671.0  26193.0  25722.0     0.0    25722.0   BVSP\n",
       "2005-01-04  25873.0  24791.0  25722.0  24848.0     0.0    24848.0   BVSP\n",
       "2005-01-05  25001.0  24523.0  24859.0  24692.0     0.0    24692.0   BVSP"
      ]
     },
     "execution_count": 201,
     "metadata": {},
     "output_type": "execute_result"
    }
   ],
   "source": [
    "ibov.head(3)"
   ]
  },
  {
   "cell_type": "code",
   "execution_count": 202,
   "metadata": {},
   "outputs": [
    {
     "data": {
      "text/plain": [
       "(3856, 7)"
      ]
     },
     "execution_count": 202,
     "metadata": {},
     "output_type": "execute_result"
    }
   ],
   "source": [
    "ibov.shape"
   ]
  },
  {
   "cell_type": "code",
   "execution_count": 203,
   "metadata": {},
   "outputs": [
    {
     "data": {
      "text/plain": [
       "(Timestamp('2005-01-03 00:00:00'), Timestamp('2020-08-11 00:00:00'))"
      ]
     },
     "execution_count": 203,
     "metadata": {},
     "output_type": "execute_result"
    }
   ],
   "source": [
    "ibov.index.min(), ibov.index.max()"
   ]
  },
  {
   "cell_type": "code",
   "execution_count": 204,
   "metadata": {},
   "outputs": [],
   "source": [
    "# Salvando o dataframe do ibov em um .csv\n",
    "filename_ibov = 'ibovespa.csv'\n",
    "ibov.to_csv(os.path.join(DATA_PATH, filename_ibov))"
   ]
  },
  {
   "cell_type": "markdown",
   "metadata": {},
   "source": [
    "#### Dados históricos de pagamentos de dividendos e JCP"
   ]
  },
  {
   "cell_type": "code",
   "execution_count": 103,
   "metadata": {},
   "outputs": [],
   "source": [
    "dividendos = pd.DataFrame()\n",
    "\n",
    "for t in tickers:\n",
    "    # Definindo a URL\n",
    "    url = \"http://www.fundamentus.com.br/proventos.php?papel={}&tipo=2\".format(t)\n",
    "\n",
    "    # Informações para fingir ser um navegador\n",
    "    header = {\n",
    "      \"User-Agent\": \"Mozilla/5.0 (X11; Linux x86_64) AppleWebKit/537.36 (KHTML, like Gecko) Chrome/50.0.2661.75 Safari/537.36\",\n",
    "      \"X-Requested-With\": \"XMLHttpRequest\"\n",
    "    }\n",
    "    # Fazendo a request\n",
    "    r = requests.get(url, headers=header)\n",
    "\n",
    "    # Lendo a tabela\n",
    "    try: \n",
    "        aux = pd.read_html(r.text, decimal=',', thousands='.')[0]\n",
    "        aux['Ticker'] = t\n",
    "    except:\n",
    "        pass\n",
    "    \n",
    "    dividendos = pd.concat([dividendos, aux])"
   ]
  },
  {
   "cell_type": "code",
   "execution_count": 104,
   "metadata": {},
   "outputs": [
    {
     "data": {
      "text/html": [
       "<div>\n",
       "<style scoped>\n",
       "    .dataframe tbody tr th:only-of-type {\n",
       "        vertical-align: middle;\n",
       "    }\n",
       "\n",
       "    .dataframe tbody tr th {\n",
       "        vertical-align: top;\n",
       "    }\n",
       "\n",
       "    .dataframe thead th {\n",
       "        text-align: right;\n",
       "    }\n",
       "</style>\n",
       "<table border=\"1\" class=\"dataframe\">\n",
       "  <thead>\n",
       "    <tr style=\"text-align: right;\">\n",
       "      <th></th>\n",
       "      <th>Data</th>\n",
       "      <th>Valor</th>\n",
       "      <th>Tipo</th>\n",
       "      <th>Por quantas ações</th>\n",
       "      <th>Ticker</th>\n",
       "    </tr>\n",
       "  </thead>\n",
       "  <tbody>\n",
       "    <tr>\n",
       "      <th>0</th>\n",
       "      <td>19/12/2019</td>\n",
       "      <td>0.4906</td>\n",
       "      <td>JRS CAP PROPRIO</td>\n",
       "      <td>1</td>\n",
       "      <td>ABEV3</td>\n",
       "    </tr>\n",
       "    <tr>\n",
       "      <th>1</th>\n",
       "      <td>18/12/2018</td>\n",
       "      <td>0.3200</td>\n",
       "      <td>JRS CAP PROPRIO</td>\n",
       "      <td>1</td>\n",
       "      <td>ABEV3</td>\n",
       "    </tr>\n",
       "    <tr>\n",
       "      <th>2</th>\n",
       "      <td>15/06/2018</td>\n",
       "      <td>0.1600</td>\n",
       "      <td>DIVIDENDO</td>\n",
       "      <td>1</td>\n",
       "      <td>ABEV3</td>\n",
       "    </tr>\n",
       "    <tr>\n",
       "      <th>3</th>\n",
       "      <td>31/01/2018</td>\n",
       "      <td>0.0700</td>\n",
       "      <td>DIVIDENDO</td>\n",
       "      <td>1</td>\n",
       "      <td>ABEV3</td>\n",
       "    </tr>\n",
       "    <tr>\n",
       "      <th>4</th>\n",
       "      <td>18/12/2017</td>\n",
       "      <td>0.3100</td>\n",
       "      <td>JRS CAP PROPRIO</td>\n",
       "      <td>1</td>\n",
       "      <td>ABEV3</td>\n",
       "    </tr>\n",
       "  </tbody>\n",
       "</table>\n",
       "</div>"
      ],
      "text/plain": [
       "         Data   Valor             Tipo  Por quantas ações Ticker\n",
       "0  19/12/2019  0.4906  JRS CAP PROPRIO                  1  ABEV3\n",
       "1  18/12/2018  0.3200  JRS CAP PROPRIO                  1  ABEV3\n",
       "2  15/06/2018  0.1600        DIVIDENDO                  1  ABEV3\n",
       "3  31/01/2018  0.0700        DIVIDENDO                  1  ABEV3\n",
       "4  18/12/2017  0.3100  JRS CAP PROPRIO                  1  ABEV3"
      ]
     },
     "execution_count": 104,
     "metadata": {},
     "output_type": "execute_result"
    }
   ],
   "source": [
    "dividendos.head()"
   ]
  },
  {
   "cell_type": "code",
   "execution_count": 96,
   "metadata": {},
   "outputs": [
    {
     "data": {
      "text/plain": [
       "72"
      ]
     },
     "execution_count": 96,
     "metadata": {},
     "output_type": "execute_result"
    }
   ],
   "source": [
    "dividendos['Ticker'].nunique()"
   ]
  },
  {
   "cell_type": "code",
   "execution_count": 98,
   "metadata": {},
   "outputs": [
    {
     "data": {
      "text/plain": [
       "(4040, 5)"
      ]
     },
     "execution_count": 98,
     "metadata": {},
     "output_type": "execute_result"
    }
   ],
   "source": [
    "dividendos.shape"
   ]
  },
  {
   "cell_type": "code",
   "execution_count": 100,
   "metadata": {},
   "outputs": [
    {
     "data": {
      "text/plain": [
       "('01/02/1999', '31/10/2019')"
      ]
     },
     "execution_count": 100,
     "metadata": {},
     "output_type": "execute_result"
    }
   ],
   "source": [
    "dividendos.Data.min(), dividendos.Data.max()"
   ]
  },
  {
   "cell_type": "code",
   "execution_count": 101,
   "metadata": {},
   "outputs": [],
   "source": [
    "# Salvando o dataframe do ibov em um .csv\n",
    "filename_dividendos = 'dividendos.csv'\n",
    "dividendos.to_csv(os.path.join(DATA_PATH, filename_dividendos))"
   ]
  },
  {
   "cell_type": "markdown",
   "metadata": {},
   "source": [
    "#### Dados históricos fundamentalistas"
   ]
  },
  {
   "cell_type": "code",
   "execution_count": null,
   "metadata": {},
   "outputs": [],
   "source": []
  },
  {
   "cell_type": "code",
   "execution_count": null,
   "metadata": {},
   "outputs": [],
   "source": []
  },
  {
   "cell_type": "code",
   "execution_count": null,
   "metadata": {},
   "outputs": [],
   "source": []
  },
  {
   "cell_type": "code",
   "execution_count": null,
   "metadata": {},
   "outputs": [],
   "source": []
  },
  {
   "cell_type": "markdown",
   "metadata": {},
   "source": [
    "#### Dados históricos macroeconômicos (Dólar, Selic e IPCA)"
   ]
  },
  {
   "cell_type": "markdown",
   "metadata": {},
   "source": [
    "#### Dólar"
   ]
  },
  {
   "cell_type": "code",
   "execution_count": 169,
   "metadata": {},
   "outputs": [],
   "source": [
    "ticker_dolar = ['USDBRL=X']\n",
    "dolar = web.get_data_yahoo(ticker_dolar, '01/01/2005')\n",
    "dolar['Ticker'] = 'dolar'"
   ]
  },
  {
   "cell_type": "code",
   "execution_count": 170,
   "metadata": {},
   "outputs": [
    {
     "data": {
      "text/html": [
       "<div>\n",
       "<style scoped>\n",
       "    .dataframe tbody tr th:only-of-type {\n",
       "        vertical-align: middle;\n",
       "    }\n",
       "\n",
       "    .dataframe tbody tr th {\n",
       "        vertical-align: top;\n",
       "    }\n",
       "\n",
       "    .dataframe thead tr th {\n",
       "        text-align: left;\n",
       "    }\n",
       "\n",
       "    .dataframe thead tr:last-of-type th {\n",
       "        text-align: right;\n",
       "    }\n",
       "</style>\n",
       "<table border=\"1\" class=\"dataframe\">\n",
       "  <thead>\n",
       "    <tr>\n",
       "      <th>Attributes</th>\n",
       "      <th>Adj Close</th>\n",
       "      <th>Close</th>\n",
       "      <th>High</th>\n",
       "      <th>Low</th>\n",
       "      <th>Open</th>\n",
       "      <th>Volume</th>\n",
       "      <th>Ticker</th>\n",
       "    </tr>\n",
       "    <tr>\n",
       "      <th>Symbols</th>\n",
       "      <th>USDBRL=X</th>\n",
       "      <th>USDBRL=X</th>\n",
       "      <th>USDBRL=X</th>\n",
       "      <th>USDBRL=X</th>\n",
       "      <th>USDBRL=X</th>\n",
       "      <th>USDBRL=X</th>\n",
       "      <th></th>\n",
       "    </tr>\n",
       "    <tr>\n",
       "      <th>Date</th>\n",
       "      <th></th>\n",
       "      <th></th>\n",
       "      <th></th>\n",
       "      <th></th>\n",
       "      <th></th>\n",
       "      <th></th>\n",
       "      <th></th>\n",
       "    </tr>\n",
       "  </thead>\n",
       "  <tbody>\n",
       "    <tr>\n",
       "      <th>2006-03-24</th>\n",
       "      <td>2.1547</td>\n",
       "      <td>2.1547</td>\n",
       "      <td>2.1665</td>\n",
       "      <td>2.1541</td>\n",
       "      <td>2.1665</td>\n",
       "      <td>0.0</td>\n",
       "      <td>dolar</td>\n",
       "    </tr>\n",
       "    <tr>\n",
       "      <th>2006-03-26</th>\n",
       "      <td>2.1503</td>\n",
       "      <td>2.1503</td>\n",
       "      <td>2.1558</td>\n",
       "      <td>2.1503</td>\n",
       "      <td>2.1555</td>\n",
       "      <td>0.0</td>\n",
       "      <td>dolar</td>\n",
       "    </tr>\n",
       "    <tr>\n",
       "      <th>2006-03-27</th>\n",
       "      <td>2.1677</td>\n",
       "      <td>2.1677</td>\n",
       "      <td>2.1690</td>\n",
       "      <td>2.1677</td>\n",
       "      <td>2.1682</td>\n",
       "      <td>0.0</td>\n",
       "      <td>dolar</td>\n",
       "    </tr>\n",
       "  </tbody>\n",
       "</table>\n",
       "</div>"
      ],
      "text/plain": [
       "Attributes Adj Close    Close     High      Low     Open   Volume Ticker\n",
       "Symbols     USDBRL=X USDBRL=X USDBRL=X USDBRL=X USDBRL=X USDBRL=X       \n",
       "Date                                                                    \n",
       "2006-03-24    2.1547   2.1547   2.1665   2.1541   2.1665      0.0  dolar\n",
       "2006-03-26    2.1503   2.1503   2.1558   2.1503   2.1555      0.0  dolar\n",
       "2006-03-27    2.1677   2.1677   2.1690   2.1677   2.1682      0.0  dolar"
      ]
     },
     "execution_count": 170,
     "metadata": {},
     "output_type": "execute_result"
    }
   ],
   "source": [
    "dolar.head(3)"
   ]
  },
  {
   "cell_type": "code",
   "execution_count": 171,
   "metadata": {},
   "outputs": [
    {
     "data": {
      "text/plain": [
       "(3717, 7)"
      ]
     },
     "execution_count": 171,
     "metadata": {},
     "output_type": "execute_result"
    }
   ],
   "source": [
    "dolar.shape"
   ]
  },
  {
   "cell_type": "code",
   "execution_count": 181,
   "metadata": {},
   "outputs": [],
   "source": [
    "dolar.columns = ['Adj Close', 'Close', 'High', 'Low', 'Open', 'Volume', 'Ticker']"
   ]
  },
  {
   "cell_type": "code",
   "execution_count": 184,
   "metadata": {},
   "outputs": [
    {
     "data": {
      "text/html": [
       "<div>\n",
       "<style scoped>\n",
       "    .dataframe tbody tr th:only-of-type {\n",
       "        vertical-align: middle;\n",
       "    }\n",
       "\n",
       "    .dataframe tbody tr th {\n",
       "        vertical-align: top;\n",
       "    }\n",
       "\n",
       "    .dataframe thead th {\n",
       "        text-align: right;\n",
       "    }\n",
       "</style>\n",
       "<table border=\"1\" class=\"dataframe\">\n",
       "  <thead>\n",
       "    <tr style=\"text-align: right;\">\n",
       "      <th></th>\n",
       "      <th>Adj Close</th>\n",
       "      <th>Close</th>\n",
       "      <th>High</th>\n",
       "      <th>Low</th>\n",
       "      <th>Open</th>\n",
       "      <th>Volume</th>\n",
       "      <th>Ticker</th>\n",
       "    </tr>\n",
       "    <tr>\n",
       "      <th>Date</th>\n",
       "      <th></th>\n",
       "      <th></th>\n",
       "      <th></th>\n",
       "      <th></th>\n",
       "      <th></th>\n",
       "      <th></th>\n",
       "      <th></th>\n",
       "    </tr>\n",
       "  </thead>\n",
       "  <tbody>\n",
       "    <tr>\n",
       "      <th>2006-03-24</th>\n",
       "      <td>2.1547</td>\n",
       "      <td>2.1547</td>\n",
       "      <td>2.1665</td>\n",
       "      <td>2.1541</td>\n",
       "      <td>2.1665</td>\n",
       "      <td>0.0</td>\n",
       "      <td>dolar</td>\n",
       "    </tr>\n",
       "    <tr>\n",
       "      <th>2006-03-26</th>\n",
       "      <td>2.1503</td>\n",
       "      <td>2.1503</td>\n",
       "      <td>2.1558</td>\n",
       "      <td>2.1503</td>\n",
       "      <td>2.1555</td>\n",
       "      <td>0.0</td>\n",
       "      <td>dolar</td>\n",
       "    </tr>\n",
       "    <tr>\n",
       "      <th>2006-03-27</th>\n",
       "      <td>2.1677</td>\n",
       "      <td>2.1677</td>\n",
       "      <td>2.1690</td>\n",
       "      <td>2.1677</td>\n",
       "      <td>2.1682</td>\n",
       "      <td>0.0</td>\n",
       "      <td>dolar</td>\n",
       "    </tr>\n",
       "  </tbody>\n",
       "</table>\n",
       "</div>"
      ],
      "text/plain": [
       "            Adj Close   Close    High     Low    Open  Volume Ticker\n",
       "Date                                                                \n",
       "2006-03-24     2.1547  2.1547  2.1665  2.1541  2.1665     0.0  dolar\n",
       "2006-03-26     2.1503  2.1503  2.1558  2.1503  2.1555     0.0  dolar\n",
       "2006-03-27     2.1677  2.1677  2.1690  2.1677  2.1682     0.0  dolar"
      ]
     },
     "execution_count": 184,
     "metadata": {},
     "output_type": "execute_result"
    }
   ],
   "source": [
    "dolar.head(3)"
   ]
  },
  {
   "cell_type": "code",
   "execution_count": 185,
   "metadata": {},
   "outputs": [
    {
     "data": {
      "text/plain": [
       "(Timestamp('2006-03-24 00:00:00'), Timestamp('2020-08-12 00:00:00'))"
      ]
     },
     "execution_count": 185,
     "metadata": {},
     "output_type": "execute_result"
    }
   ],
   "source": [
    "dolar.index.min(), dolar.index.max()"
   ]
  },
  {
   "cell_type": "code",
   "execution_count": 186,
   "metadata": {},
   "outputs": [],
   "source": [
    "# Salvando o dataframe do ibov em um .csv\n",
    "filename_dolar = 'dolar.csv'\n",
    "dolar.to_csv(os.path.join(DATA_PATH, filename_dolar))"
   ]
  },
  {
   "cell_type": "markdown",
   "metadata": {},
   "source": [
    "#### Selic"
   ]
  },
  {
   "cell_type": "code",
   "execution_count": 191,
   "metadata": {},
   "outputs": [],
   "source": [
    "# Carregando dados históricos da selic\n",
    "selic = quandl.get('BCB/432', start_date='01/01/2005')"
   ]
  },
  {
   "cell_type": "code",
   "execution_count": 192,
   "metadata": {},
   "outputs": [
    {
     "data": {
      "text/html": [
       "<div>\n",
       "<style scoped>\n",
       "    .dataframe tbody tr th:only-of-type {\n",
       "        vertical-align: middle;\n",
       "    }\n",
       "\n",
       "    .dataframe tbody tr th {\n",
       "        vertical-align: top;\n",
       "    }\n",
       "\n",
       "    .dataframe thead th {\n",
       "        text-align: right;\n",
       "    }\n",
       "</style>\n",
       "<table border=\"1\" class=\"dataframe\">\n",
       "  <thead>\n",
       "    <tr style=\"text-align: right;\">\n",
       "      <th></th>\n",
       "      <th>Value</th>\n",
       "    </tr>\n",
       "    <tr>\n",
       "      <th>Date</th>\n",
       "      <th></th>\n",
       "    </tr>\n",
       "  </thead>\n",
       "  <tbody>\n",
       "    <tr>\n",
       "      <th>2020-08-09</th>\n",
       "      <td>2.0</td>\n",
       "    </tr>\n",
       "    <tr>\n",
       "      <th>2020-08-10</th>\n",
       "      <td>2.0</td>\n",
       "    </tr>\n",
       "    <tr>\n",
       "      <th>2020-08-11</th>\n",
       "      <td>2.0</td>\n",
       "    </tr>\n",
       "  </tbody>\n",
       "</table>\n",
       "</div>"
      ],
      "text/plain": [
       "            Value\n",
       "Date             \n",
       "2020-08-09    2.0\n",
       "2020-08-10    2.0\n",
       "2020-08-11    2.0"
      ]
     },
     "execution_count": 192,
     "metadata": {},
     "output_type": "execute_result"
    }
   ],
   "source": [
    "selic.tail(3)"
   ]
  },
  {
   "cell_type": "code",
   "execution_count": 193,
   "metadata": {},
   "outputs": [],
   "source": [
    "# Salvando o histórico da selic em um .csv\n",
    "filename_selic = 'selic.csv'\n",
    "selic.to_csv(os.path.join(DATA_PATH, filename_selic))"
   ]
  },
  {
   "cell_type": "markdown",
   "metadata": {},
   "source": [
    "#### IPCA"
   ]
  },
  {
   "cell_type": "code",
   "execution_count": 195,
   "metadata": {},
   "outputs": [],
   "source": [
    "# Carregando dados históricos do IPCA\n",
    "ipca = quandl.get('BCB/13522', start_date='01/01/2005')"
   ]
  },
  {
   "cell_type": "code",
   "execution_count": 205,
   "metadata": {},
   "outputs": [
    {
     "data": {
      "text/html": [
       "<div>\n",
       "<style scoped>\n",
       "    .dataframe tbody tr th:only-of-type {\n",
       "        vertical-align: middle;\n",
       "    }\n",
       "\n",
       "    .dataframe tbody tr th {\n",
       "        vertical-align: top;\n",
       "    }\n",
       "\n",
       "    .dataframe thead th {\n",
       "        text-align: right;\n",
       "    }\n",
       "</style>\n",
       "<table border=\"1\" class=\"dataframe\">\n",
       "  <thead>\n",
       "    <tr style=\"text-align: right;\">\n",
       "      <th></th>\n",
       "      <th>Value</th>\n",
       "    </tr>\n",
       "    <tr>\n",
       "      <th>Date</th>\n",
       "      <th></th>\n",
       "    </tr>\n",
       "  </thead>\n",
       "  <tbody>\n",
       "    <tr>\n",
       "      <th>2005-01-31</th>\n",
       "      <td>7.41</td>\n",
       "    </tr>\n",
       "    <tr>\n",
       "      <th>2005-02-28</th>\n",
       "      <td>7.39</td>\n",
       "    </tr>\n",
       "    <tr>\n",
       "      <th>2005-03-31</th>\n",
       "      <td>7.54</td>\n",
       "    </tr>\n",
       "  </tbody>\n",
       "</table>\n",
       "</div>"
      ],
      "text/plain": [
       "            Value\n",
       "Date             \n",
       "2005-01-31   7.41\n",
       "2005-02-28   7.39\n",
       "2005-03-31   7.54"
      ]
     },
     "execution_count": 205,
     "metadata": {},
     "output_type": "execute_result"
    }
   ],
   "source": [
    "ipca.head(3)"
   ]
  },
  {
   "cell_type": "code",
   "execution_count": 206,
   "metadata": {},
   "outputs": [],
   "source": [
    "# Salvando o histórico do IPCA em um .csv\n",
    "filename_ipca = 'ipca.csv'\n",
    "ipca.to_csv(os.path.join(DATA_PATH, filename_ipca))"
   ]
  }
 ],
 "metadata": {
  "kernelspec": {
   "display_name": "Python 3",
   "language": "python",
   "name": "python3"
  },
  "language_info": {
   "codemirror_mode": {
    "name": "ipython",
    "version": 3
   },
   "file_extension": ".py",
   "mimetype": "text/x-python",
   "name": "python",
   "nbconvert_exporter": "python",
   "pygments_lexer": "ipython3",
   "version": "3.8.3"
  },
  "toc": {
   "base_numbering": 1,
   "nav_menu": {},
   "number_sections": true,
   "sideBar": true,
   "skip_h1_title": false,
   "title_cell": "Table of Contents",
   "title_sidebar": "Contents",
   "toc_cell": false,
   "toc_position": {},
   "toc_section_display": true,
   "toc_window_display": false
  }
 },
 "nbformat": 4,
 "nbformat_minor": 4
}
