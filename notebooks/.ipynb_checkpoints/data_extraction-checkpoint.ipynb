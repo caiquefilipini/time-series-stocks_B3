{
 "cells": [
  {
   "cell_type": "markdown",
   "metadata": {},
   "source": [
    "### Extraindo os Dados"
   ]
  },
  {
   "cell_type": "markdown",
   "metadata": {},
   "source": [
    "*Neste notebook, faremos o processo de extração dos dados...*"
   ]
  },
  {
   "cell_type": "code",
   "execution_count": 1,
   "metadata": {
    "ExecuteTime": {
     "end_time": "2020-05-29T10:45:52.372986Z",
     "start_time": "2020-05-29T10:45:27.641748Z"
    }
   },
   "outputs": [],
   "source": [
    "# importando as bibliotecas\n",
    "import os\n",
    "import sys\n",
    "import requests\n",
    "from datetime import datetime\n",
    "import numpy as np\n",
    "import pandas as pd\n",
    "from bs4 import BeautifulSoup\n",
    "import quandl\n",
    "import investpy as inv\n",
    "\n",
    "# configurando o notebook\n",
    "import warnings\n",
    "warnings.filterwarnings('ignore')"
   ]
  },
  {
   "cell_type": "code",
   "execution_count": 144,
   "metadata": {},
   "outputs": [],
   "source": [
    "url = 'https://www.espn.com.br/nba/classificacao'\n",
    "req = requests.get(url)"
   ]
  },
  {
   "cell_type": "code",
   "execution_count": 145,
   "metadata": {},
   "outputs": [],
   "source": [
    "soup = BeautifulSoup(req.text, 'html.parser')"
   ]
  },
  {
   "cell_type": "code",
   "execution_count": 150,
   "metadata": {},
   "outputs": [
    {
     "data": {
      "text/html": [
       "<div>\n",
       "<style scoped>\n",
       "    .dataframe tbody tr th:only-of-type {\n",
       "        vertical-align: middle;\n",
       "    }\n",
       "\n",
       "    .dataframe tbody tr th {\n",
       "        vertical-align: top;\n",
       "    }\n",
       "\n",
       "    .dataframe thead th {\n",
       "        text-align: right;\n",
       "    }\n",
       "</style>\n",
       "<table border=\"1\" class=\"dataframe\">\n",
       "  <thead>\n",
       "    <tr style=\"text-align: right;\">\n",
       "      <th></th>\n",
       "      <th>V</th>\n",
       "      <th>D</th>\n",
       "      <th>% Vit.</th>\n",
       "      <th>JA</th>\n",
       "      <th>Casa</th>\n",
       "      <th>VISITANTE</th>\n",
       "      <th>DIV</th>\n",
       "      <th>CONF</th>\n",
       "      <th>PTS</th>\n",
       "      <th>PTS Contra</th>\n",
       "      <th>DIF</th>\n",
       "      <th>STRK</th>\n",
       "      <th>U10</th>\n",
       "    </tr>\n",
       "  </thead>\n",
       "  <tbody>\n",
       "    <tr>\n",
       "      <th>0</th>\n",
       "      <td>53</td>\n",
       "      <td>12</td>\n",
       "      <td>0.815</td>\n",
       "      <td>-</td>\n",
       "      <td>28-3</td>\n",
       "      <td>25-9</td>\n",
       "      <td>13-1</td>\n",
       "      <td>34-5</td>\n",
       "      <td>118.6</td>\n",
       "      <td>107.4</td>\n",
       "      <td>11.2</td>\n",
       "      <td>D3</td>\n",
       "      <td>6-4</td>\n",
       "    </tr>\n",
       "    <tr>\n",
       "      <th>1</th>\n",
       "      <td>46</td>\n",
       "      <td>18</td>\n",
       "      <td>0.719</td>\n",
       "      <td>6.5</td>\n",
       "      <td>23-9</td>\n",
       "      <td>23-9</td>\n",
       "      <td>8-4</td>\n",
       "      <td>30-10</td>\n",
       "      <td>113.0</td>\n",
       "      <td>106.5</td>\n",
       "      <td>6.5</td>\n",
       "      <td>V4</td>\n",
       "      <td>6-4</td>\n",
       "    </tr>\n",
       "    <tr>\n",
       "      <th>2</th>\n",
       "      <td>43</td>\n",
       "      <td>21</td>\n",
       "      <td>0.672</td>\n",
       "      <td>9.5</td>\n",
       "      <td>23-9</td>\n",
       "      <td>20-12</td>\n",
       "      <td>7-6</td>\n",
       "      <td>27-10</td>\n",
       "      <td>113.0</td>\n",
       "      <td>106.8</td>\n",
       "      <td>6.2</td>\n",
       "      <td>V1</td>\n",
       "      <td>5-5</td>\n",
       "    </tr>\n",
       "    <tr>\n",
       "      <th>3</th>\n",
       "      <td>41</td>\n",
       "      <td>24</td>\n",
       "      <td>0.631</td>\n",
       "      <td>12</td>\n",
       "      <td>27-5</td>\n",
       "      <td>14-19</td>\n",
       "      <td>10-4</td>\n",
       "      <td>28-10</td>\n",
       "      <td>112.2</td>\n",
       "      <td>108.9</td>\n",
       "      <td>3.3</td>\n",
       "      <td>D1</td>\n",
       "      <td>6-4</td>\n",
       "    </tr>\n",
       "    <tr>\n",
       "      <th>4</th>\n",
       "      <td>39</td>\n",
       "      <td>26</td>\n",
       "      <td>0.600</td>\n",
       "      <td>14</td>\n",
       "      <td>21-11</td>\n",
       "      <td>18-15</td>\n",
       "      <td>8-7</td>\n",
       "      <td>24-18</td>\n",
       "      <td>109.3</td>\n",
       "      <td>107.4</td>\n",
       "      <td>1.9</td>\n",
       "      <td>D1</td>\n",
       "      <td>7-3</td>\n",
       "    </tr>\n",
       "    <tr>\n",
       "      <th>5</th>\n",
       "      <td>39</td>\n",
       "      <td>26</td>\n",
       "      <td>0.600</td>\n",
       "      <td>14</td>\n",
       "      <td>29-2</td>\n",
       "      <td>10-24</td>\n",
       "      <td>11-4</td>\n",
       "      <td>26-16</td>\n",
       "      <td>109.6</td>\n",
       "      <td>107.4</td>\n",
       "      <td>2.2</td>\n",
       "      <td>V1</td>\n",
       "      <td>5-5</td>\n",
       "    </tr>\n",
       "    <tr>\n",
       "      <th>6</th>\n",
       "      <td>30</td>\n",
       "      <td>34</td>\n",
       "      <td>0.469</td>\n",
       "      <td>22.5</td>\n",
       "      <td>18-14</td>\n",
       "      <td>12-20</td>\n",
       "      <td>6-9</td>\n",
       "      <td>20-21</td>\n",
       "      <td>110.8</td>\n",
       "      <td>111.4</td>\n",
       "      <td>-0.6</td>\n",
       "      <td>V3</td>\n",
       "      <td>5-5</td>\n",
       "    </tr>\n",
       "    <tr>\n",
       "      <th>7</th>\n",
       "      <td>30</td>\n",
       "      <td>35</td>\n",
       "      <td>0.462</td>\n",
       "      <td>23</td>\n",
       "      <td>16-15</td>\n",
       "      <td>14-20</td>\n",
       "      <td>9-5</td>\n",
       "      <td>19-18</td>\n",
       "      <td>106.4</td>\n",
       "      <td>107.3</td>\n",
       "      <td>-0.9</td>\n",
       "      <td>V3</td>\n",
       "      <td>6-4</td>\n",
       "    </tr>\n",
       "    <tr>\n",
       "      <th>8</th>\n",
       "      <td>24</td>\n",
       "      <td>40</td>\n",
       "      <td>0.375</td>\n",
       "      <td>28.5</td>\n",
       "      <td>16-16</td>\n",
       "      <td>8-24</td>\n",
       "      <td>5-9</td>\n",
       "      <td>17-23</td>\n",
       "      <td>115.6</td>\n",
       "      <td>119.6</td>\n",
       "      <td>-4.0</td>\n",
       "      <td>V1</td>\n",
       "      <td>4-6</td>\n",
       "    </tr>\n",
       "    <tr>\n",
       "      <th>9</th>\n",
       "      <td>23</td>\n",
       "      <td>42</td>\n",
       "      <td>0.354</td>\n",
       "      <td>30</td>\n",
       "      <td>10-21</td>\n",
       "      <td>13-21</td>\n",
       "      <td>2-7</td>\n",
       "      <td>16-24</td>\n",
       "      <td>102.9</td>\n",
       "      <td>109.6</td>\n",
       "      <td>-6.7</td>\n",
       "      <td>V1</td>\n",
       "      <td>4-6</td>\n",
       "    </tr>\n",
       "    <tr>\n",
       "      <th>10</th>\n",
       "      <td>22</td>\n",
       "      <td>43</td>\n",
       "      <td>0.338</td>\n",
       "      <td>31</td>\n",
       "      <td>14-20</td>\n",
       "      <td>8-23</td>\n",
       "      <td>7-9</td>\n",
       "      <td>15-28</td>\n",
       "      <td>106.8</td>\n",
       "      <td>109.9</td>\n",
       "      <td>-3.1</td>\n",
       "      <td>V1</td>\n",
       "      <td>3-7</td>\n",
       "    </tr>\n",
       "    <tr>\n",
       "      <th>11</th>\n",
       "      <td>21</td>\n",
       "      <td>45</td>\n",
       "      <td>0.318</td>\n",
       "      <td>32.5</td>\n",
       "      <td>11-22</td>\n",
       "      <td>10-23</td>\n",
       "      <td>2-11</td>\n",
       "      <td>15-28</td>\n",
       "      <td>105.8</td>\n",
       "      <td>112.3</td>\n",
       "      <td>-6.5</td>\n",
       "      <td>V1</td>\n",
       "      <td>4-6</td>\n",
       "    </tr>\n",
       "    <tr>\n",
       "      <th>12</th>\n",
       "      <td>20</td>\n",
       "      <td>46</td>\n",
       "      <td>0.303</td>\n",
       "      <td>33.5</td>\n",
       "      <td>11-22</td>\n",
       "      <td>9-24</td>\n",
       "      <td>5-10</td>\n",
       "      <td>12-31</td>\n",
       "      <td>107.2</td>\n",
       "      <td>110.8</td>\n",
       "      <td>-3.6</td>\n",
       "      <td>D5</td>\n",
       "      <td>1-9</td>\n",
       "    </tr>\n",
       "    <tr>\n",
       "      <th>13</th>\n",
       "      <td>20</td>\n",
       "      <td>47</td>\n",
       "      <td>0.299</td>\n",
       "      <td>34</td>\n",
       "      <td>14-20</td>\n",
       "      <td>6-27</td>\n",
       "      <td>6-7</td>\n",
       "      <td>11-32</td>\n",
       "      <td>111.8</td>\n",
       "      <td>119.7</td>\n",
       "      <td>-7.9</td>\n",
       "      <td>D1</td>\n",
       "      <td>4-6</td>\n",
       "    </tr>\n",
       "    <tr>\n",
       "      <th>14</th>\n",
       "      <td>19</td>\n",
       "      <td>46</td>\n",
       "      <td>0.292</td>\n",
       "      <td>34</td>\n",
       "      <td>11-25</td>\n",
       "      <td>8-21</td>\n",
       "      <td>4-10</td>\n",
       "      <td>12-32</td>\n",
       "      <td>106.9</td>\n",
       "      <td>114.8</td>\n",
       "      <td>-7.9</td>\n",
       "      <td>D1</td>\n",
       "      <td>4-6</td>\n",
       "    </tr>\n",
       "  </tbody>\n",
       "</table>\n",
       "</div>"
      ],
      "text/plain": [
       "     V   D  % Vit.    JA   Casa VISITANTE   DIV   CONF    PTS  PTS Contra  \\\n",
       "0   53  12   0.815     -   28-3      25-9  13-1   34-5  118.6       107.4   \n",
       "1   46  18   0.719   6.5   23-9      23-9   8-4  30-10  113.0       106.5   \n",
       "2   43  21   0.672   9.5   23-9     20-12   7-6  27-10  113.0       106.8   \n",
       "3   41  24   0.631    12   27-5     14-19  10-4  28-10  112.2       108.9   \n",
       "4   39  26   0.600    14  21-11     18-15   8-7  24-18  109.3       107.4   \n",
       "5   39  26   0.600    14   29-2     10-24  11-4  26-16  109.6       107.4   \n",
       "6   30  34   0.469  22.5  18-14     12-20   6-9  20-21  110.8       111.4   \n",
       "7   30  35   0.462    23  16-15     14-20   9-5  19-18  106.4       107.3   \n",
       "8   24  40   0.375  28.5  16-16      8-24   5-9  17-23  115.6       119.6   \n",
       "9   23  42   0.354    30  10-21     13-21   2-7  16-24  102.9       109.6   \n",
       "10  22  43   0.338    31  14-20      8-23   7-9  15-28  106.8       109.9   \n",
       "11  21  45   0.318  32.5  11-22     10-23  2-11  15-28  105.8       112.3   \n",
       "12  20  46   0.303  33.5  11-22      9-24  5-10  12-31  107.2       110.8   \n",
       "13  20  47   0.299    34  14-20      6-27   6-7  11-32  111.8       119.7   \n",
       "14  19  46   0.292    34  11-25      8-21  4-10  12-32  106.9       114.8   \n",
       "\n",
       "     DIF STRK  U10  \n",
       "0   11.2   D3  6-4  \n",
       "1    6.5   V4  6-4  \n",
       "2    6.2   V1  5-5  \n",
       "3    3.3   D1  6-4  \n",
       "4    1.9   D1  7-3  \n",
       "5    2.2   V1  5-5  \n",
       "6   -0.6   V3  5-5  \n",
       "7   -0.9   V3  6-4  \n",
       "8   -4.0   V1  4-6  \n",
       "9   -6.7   V1  4-6  \n",
       "10  -3.1   V1  3-7  \n",
       "11  -6.5   V1  4-6  \n",
       "12  -3.6   D5  1-9  \n",
       "13  -7.9   D1  4-6  \n",
       "14  -7.9   D1  4-6  "
      ]
     },
     "execution_count": 150,
     "metadata": {},
     "output_type": "execute_result"
    }
   ],
   "source": [
    "pd.read_html(url)[1]"
   ]
  },
  {
   "cell_type": "code",
   "execution_count": null,
   "metadata": {},
   "outputs": [],
   "source": [
    "soup.findAll(name={\"table\"})"
   ]
  },
  {
   "cell_type": "code",
   "execution_count": null,
   "metadata": {},
   "outputs": [],
   "source": []
  },
  {
   "cell_type": "code",
   "execution_count": null,
   "metadata": {},
   "outputs": [],
   "source": []
  },
  {
   "cell_type": "markdown",
   "metadata": {},
   "source": [
    "- Dados históricos dos preços das ações"
   ]
  },
  {
   "cell_type": "code",
   "execution_count": null,
   "metadata": {},
   "outputs": [],
   "source": [
    "# empresas"
   ]
  },
  {
   "cell_type": "code",
   "execution_count": 12,
   "metadata": {
    "ExecuteTime": {
     "end_time": "2020-05-29T10:47:30.385269Z",
     "start_time": "2020-05-29T10:47:30.373698Z"
    }
   },
   "outputs": [],
   "source": [
    "def get_stocks_historical_data():\n",
    "    \n",
    "    stocks_df = pd.DataFrame()\n",
    "\n",
    "    stocks_test = ['ITUB3']\n",
    "    # stocks = inv.stocks.get_stocks_list(country='brazil').sort()\n",
    "\n",
    "    for stock in stocks_test:\n",
    "\n",
    "        start_date = '01/01/2010'\n",
    "        final_date = '23/05/2020'\n",
    "\n",
    "        stocks_aux = inv.stocks.get_stock_historical_data(stock=stock,\n",
    "                                                          country='brazil',\n",
    "                                                          from_date=start_date, to_date=final_date).reset_index()\n",
    "        stocks_aux['ticker'] = stock\n",
    "\n",
    "        stocks_df = stocks_df.append(stocks_aux)\n",
    "    \n",
    "    return stocks_df"
   ]
  },
  {
   "cell_type": "code",
   "execution_count": 13,
   "metadata": {
    "ExecuteTime": {
     "end_time": "2020-05-29T10:47:33.343100Z",
     "start_time": "2020-05-29T10:47:30.895106Z"
    }
   },
   "outputs": [],
   "source": [
    "stocks_df = get_stocks_historical_data()"
   ]
  },
  {
   "cell_type": "code",
   "execution_count": 14,
   "metadata": {
    "ExecuteTime": {
     "end_time": "2020-05-29T10:47:33.388537Z",
     "start_time": "2020-05-29T10:47:33.347147Z"
    }
   },
   "outputs": [
    {
     "data": {
      "text/html": [
       "<div>\n",
       "<style scoped>\n",
       "    .dataframe tbody tr th:only-of-type {\n",
       "        vertical-align: middle;\n",
       "    }\n",
       "\n",
       "    .dataframe tbody tr th {\n",
       "        vertical-align: top;\n",
       "    }\n",
       "\n",
       "    .dataframe thead th {\n",
       "        text-align: right;\n",
       "    }\n",
       "</style>\n",
       "<table border=\"1\" class=\"dataframe\">\n",
       "  <thead>\n",
       "    <tr style=\"text-align: right;\">\n",
       "      <th></th>\n",
       "      <th>Date</th>\n",
       "      <th>Open</th>\n",
       "      <th>High</th>\n",
       "      <th>Low</th>\n",
       "      <th>Close</th>\n",
       "      <th>Volume</th>\n",
       "      <th>Currency</th>\n",
       "      <th>ticker</th>\n",
       "    </tr>\n",
       "  </thead>\n",
       "  <tbody>\n",
       "    <tr>\n",
       "      <th>0</th>\n",
       "      <td>2010-01-03</td>\n",
       "      <td>8.25</td>\n",
       "      <td>8.55</td>\n",
       "      <td>8.25</td>\n",
       "      <td>8.55</td>\n",
       "      <td>628696</td>\n",
       "      <td>BRL</td>\n",
       "      <td>ITUB3</td>\n",
       "    </tr>\n",
       "    <tr>\n",
       "      <th>1</th>\n",
       "      <td>2010-01-04</td>\n",
       "      <td>8.53</td>\n",
       "      <td>8.56</td>\n",
       "      <td>8.44</td>\n",
       "      <td>8.56</td>\n",
       "      <td>184037</td>\n",
       "      <td>BRL</td>\n",
       "      <td>ITUB3</td>\n",
       "    </tr>\n",
       "    <tr>\n",
       "      <th>2</th>\n",
       "      <td>2010-01-05</td>\n",
       "      <td>8.56</td>\n",
       "      <td>8.56</td>\n",
       "      <td>8.44</td>\n",
       "      <td>8.56</td>\n",
       "      <td>117386</td>\n",
       "      <td>BRL</td>\n",
       "      <td>ITUB3</td>\n",
       "    </tr>\n",
       "    <tr>\n",
       "      <th>3</th>\n",
       "      <td>2010-01-06</td>\n",
       "      <td>8.50</td>\n",
       "      <td>8.51</td>\n",
       "      <td>8.43</td>\n",
       "      <td>8.48</td>\n",
       "      <td>137549</td>\n",
       "      <td>BRL</td>\n",
       "      <td>ITUB3</td>\n",
       "    </tr>\n",
       "    <tr>\n",
       "      <th>4</th>\n",
       "      <td>2010-01-07</td>\n",
       "      <td>8.45</td>\n",
       "      <td>8.47</td>\n",
       "      <td>8.29</td>\n",
       "      <td>8.38</td>\n",
       "      <td>96580</td>\n",
       "      <td>BRL</td>\n",
       "      <td>ITUB3</td>\n",
       "    </tr>\n",
       "  </tbody>\n",
       "</table>\n",
       "</div>"
      ],
      "text/plain": [
       "        Date  Open  High   Low  Close  Volume Currency ticker\n",
       "0 2010-01-03  8.25  8.55  8.25   8.55  628696      BRL  ITUB3\n",
       "1 2010-01-04  8.53  8.56  8.44   8.56  184037      BRL  ITUB3\n",
       "2 2010-01-05  8.56  8.56  8.44   8.56  117386      BRL  ITUB3\n",
       "3 2010-01-06  8.50  8.51  8.43   8.48  137549      BRL  ITUB3\n",
       "4 2010-01-07  8.45  8.47  8.29   8.38   96580      BRL  ITUB3"
      ]
     },
     "execution_count": 14,
     "metadata": {},
     "output_type": "execute_result"
    }
   ],
   "source": [
    "stocks_df.head()"
   ]
  },
  {
   "cell_type": "code",
   "execution_count": 15,
   "metadata": {
    "ExecuteTime": {
     "end_time": "2020-05-29T10:47:33.520092Z",
     "start_time": "2020-05-29T10:47:33.397302Z"
    }
   },
   "outputs": [
    {
     "data": {
      "text/plain": [
       "(2569, 8)"
      ]
     },
     "execution_count": 15,
     "metadata": {},
     "output_type": "execute_result"
    }
   ],
   "source": [
    "stocks_df.shape"
   ]
  },
  {
   "cell_type": "code",
   "execution_count": 17,
   "metadata": {
    "ExecuteTime": {
     "end_time": "2020-05-29T11:02:28.525324Z",
     "start_time": "2020-05-29T11:02:28.475907Z"
    }
   },
   "outputs": [],
   "source": [
    "stocks_df.to_csv('../data/amostra.csv')"
   ]
  },
  {
   "cell_type": "code",
   "execution_count": 219,
   "metadata": {},
   "outputs": [],
   "source": [
    "# bovespa"
   ]
  },
  {
   "cell_type": "code",
   "execution_count": 220,
   "metadata": {},
   "outputs": [],
   "source": [
    "indices = inv.get_indices_list(country='brazil')"
   ]
  },
  {
   "cell_type": "code",
   "execution_count": 223,
   "metadata": {},
   "outputs": [],
   "source": [
    "def get_bovespa_historical_data():\n",
    "    \n",
    "    start_date = '01/01/2000'\n",
    "    final_date = '23/05/2020'\n",
    "    \n",
    "    bov_df = inv.get_index_historical_data(index='Bovespa',\n",
    "                                           country='brazil',\n",
    "                                           from_date=start_date, to_date=final_date).reset_index()\n",
    "    \n",
    "    return bov_df"
   ]
  },
  {
   "cell_type": "code",
   "execution_count": 224,
   "metadata": {},
   "outputs": [],
   "source": [
    "bov_df = get_bovespa_historical_data()"
   ]
  },
  {
   "cell_type": "code",
   "execution_count": 225,
   "metadata": {},
   "outputs": [
    {
     "data": {
      "text/html": [
       "<div>\n",
       "<style scoped>\n",
       "    .dataframe tbody tr th:only-of-type {\n",
       "        vertical-align: middle;\n",
       "    }\n",
       "\n",
       "    .dataframe tbody tr th {\n",
       "        vertical-align: top;\n",
       "    }\n",
       "\n",
       "    .dataframe thead th {\n",
       "        text-align: right;\n",
       "    }\n",
       "</style>\n",
       "<table border=\"1\" class=\"dataframe\">\n",
       "  <thead>\n",
       "    <tr style=\"text-align: right;\">\n",
       "      <th></th>\n",
       "      <th>Date</th>\n",
       "      <th>Open</th>\n",
       "      <th>High</th>\n",
       "      <th>Low</th>\n",
       "      <th>Close</th>\n",
       "      <th>Volume</th>\n",
       "      <th>Currency</th>\n",
       "    </tr>\n",
       "  </thead>\n",
       "  <tbody>\n",
       "    <tr>\n",
       "      <th>0</th>\n",
       "      <td>2000-12-26</td>\n",
       "      <td>14804.50</td>\n",
       "      <td>15222.92</td>\n",
       "      <td>14804.50</td>\n",
       "      <td>15186.15</td>\n",
       "      <td>239975392</td>\n",
       "      <td>BRL</td>\n",
       "    </tr>\n",
       "    <tr>\n",
       "      <th>1</th>\n",
       "      <td>2000-12-27</td>\n",
       "      <td>15188.21</td>\n",
       "      <td>15269.30</td>\n",
       "      <td>15132.06</td>\n",
       "      <td>15259.29</td>\n",
       "      <td>324256128</td>\n",
       "      <td>BRL</td>\n",
       "    </tr>\n",
       "    <tr>\n",
       "      <th>2</th>\n",
       "      <td>2001-01-01</td>\n",
       "      <td>15242.11</td>\n",
       "      <td>15621.41</td>\n",
       "      <td>15173.61</td>\n",
       "      <td>15425.34</td>\n",
       "      <td>230631104</td>\n",
       "      <td>BRL</td>\n",
       "    </tr>\n",
       "    <tr>\n",
       "      <th>3</th>\n",
       "      <td>2001-01-02</td>\n",
       "      <td>15425.41</td>\n",
       "      <td>16599.42</td>\n",
       "      <td>15251.12</td>\n",
       "      <td>16599.42</td>\n",
       "      <td>381195200</td>\n",
       "      <td>BRL</td>\n",
       "    </tr>\n",
       "    <tr>\n",
       "      <th>4</th>\n",
       "      <td>2001-01-03</td>\n",
       "      <td>16596.78</td>\n",
       "      <td>16933.39</td>\n",
       "      <td>16586.85</td>\n",
       "      <td>16675.06</td>\n",
       "      <td>331230784</td>\n",
       "      <td>BRL</td>\n",
       "    </tr>\n",
       "  </tbody>\n",
       "</table>\n",
       "</div>"
      ],
      "text/plain": [
       "        Date      Open      High       Low     Close     Volume Currency\n",
       "0 2000-12-26  14804.50  15222.92  14804.50  15186.15  239975392      BRL\n",
       "1 2000-12-27  15188.21  15269.30  15132.06  15259.29  324256128      BRL\n",
       "2 2001-01-01  15242.11  15621.41  15173.61  15425.34  230631104      BRL\n",
       "3 2001-01-02  15425.41  16599.42  15251.12  16599.42  381195200      BRL\n",
       "4 2001-01-03  16596.78  16933.39  16586.85  16675.06  331230784      BRL"
      ]
     },
     "execution_count": 225,
     "metadata": {},
     "output_type": "execute_result"
    }
   ],
   "source": [
    "bov_df.head()"
   ]
  },
  {
   "cell_type": "markdown",
   "metadata": {},
   "source": [
    "- Dados históricos de pagamentos de dividendos"
   ]
  },
  {
   "cell_type": "code",
   "execution_count": 236,
   "metadata": {},
   "outputs": [
    {
     "ename": "RuntimeError",
     "evalue": "ERR#0061: introduced stock has no dividend's data to display.",
     "output_type": "error",
     "traceback": [
      "\u001b[1;31m---------------------------------------------------------------------------\u001b[0m",
      "\u001b[1;31mRuntimeError\u001b[0m                              Traceback (most recent call last)",
      "\u001b[1;32m<ipython-input-236-dd313fbbb19b>\u001b[0m in \u001b[0;36m<module>\u001b[1;34m\u001b[0m\n\u001b[1;32m----> 1\u001b[1;33m \u001b[0minv\u001b[0m\u001b[1;33m.\u001b[0m\u001b[0mstocks\u001b[0m\u001b[1;33m.\u001b[0m\u001b[0mget_stock_dividends\u001b[0m\u001b[1;33m(\u001b[0m\u001b[0mstock\u001b[0m\u001b[1;33m=\u001b[0m\u001b[1;34m'BBAS3'\u001b[0m\u001b[1;33m,\u001b[0m \u001b[0mcountry\u001b[0m\u001b[1;33m=\u001b[0m\u001b[1;34m'brazil'\u001b[0m\u001b[1;33m)\u001b[0m\u001b[1;33m\u001b[0m\u001b[1;33m\u001b[0m\u001b[0m\n\u001b[0m",
      "\u001b[1;32m~\\anaconda3\\lib\\site-packages\\investpy\\stocks.py\u001b[0m in \u001b[0;36mget_stock_dividends\u001b[1;34m(stock, country)\u001b[0m\n\u001b[0;32m    971\u001b[0m         \u001b[1;32mreturn\u001b[0m \u001b[0mdf\u001b[0m\u001b[1;33m\u001b[0m\u001b[1;33m\u001b[0m\u001b[0m\n\u001b[0;32m    972\u001b[0m     \u001b[1;32melse\u001b[0m\u001b[1;33m:\u001b[0m\u001b[1;33m\u001b[0m\u001b[1;33m\u001b[0m\u001b[0m\n\u001b[1;32m--> 973\u001b[1;33m         \u001b[1;32mraise\u001b[0m \u001b[0mRuntimeError\u001b[0m\u001b[1;33m(\u001b[0m\u001b[1;34m\"ERR#0061: introduced stock has no dividend's data to display.\"\u001b[0m\u001b[1;33m)\u001b[0m\u001b[1;33m\u001b[0m\u001b[1;33m\u001b[0m\u001b[0m\n\u001b[0m\u001b[0;32m    974\u001b[0m \u001b[1;33m\u001b[0m\u001b[0m\n\u001b[0;32m    975\u001b[0m \u001b[1;33m\u001b[0m\u001b[0m\n",
      "\u001b[1;31mRuntimeError\u001b[0m: ERR#0061: introduced stock has no dividend's data to display."
     ]
    }
   ],
   "source": [
    "inv.stocks.get_stock_dividends(stock='BBAS3', country='brazil')"
   ]
  },
  {
   "cell_type": "code",
   "execution_count": null,
   "metadata": {},
   "outputs": [],
   "source": []
  },
  {
   "cell_type": "markdown",
   "metadata": {},
   "source": [
    "- Dados históricos fundamentalistas"
   ]
  },
  {
   "cell_type": "code",
   "execution_count": null,
   "metadata": {},
   "outputs": [],
   "source": []
  },
  {
   "cell_type": "markdown",
   "metadata": {},
   "source": [
    "- Dados históricos macroeconômicos"
   ]
  },
  {
   "cell_type": "code",
   "execution_count": null,
   "metadata": {},
   "outputs": [],
   "source": [
    "# dolar"
   ]
  },
  {
   "cell_type": "code",
   "execution_count": 108,
   "metadata": {},
   "outputs": [],
   "source": [
    "def extract_dolar():\n",
    "    \n",
    "    start_date = '01-01-2000' # MM-DD-AAAA\n",
    "    final_date = datetime.today().strftime('%m-%d-%Y')\n",
    "    \n",
    "    url_dolar = \"https://olinda.bcb.gov.br/olinda/servico/PTAX/versao/v1/odata/CotacaoDolarPeriodo(dataInicial=@dataInicial,dataFinalCotacao=@dataFinalCotacao)?@dataInicial='{}'&@dataFinalCotacao='{}'&$top=1000000&$format=text/csv&$select=cotacaoCompra,cotacaoVenda,dataHoraCotacao\".format(start_date, final_date)\n",
    "    \n",
    "    return pd.read_csv(url_dolar, sep=',', decimal=',')"
   ]
  },
  {
   "cell_type": "code",
   "execution_count": 109,
   "metadata": {},
   "outputs": [],
   "source": [
    "dolar_df = extract_dolar()"
   ]
  },
  {
   "cell_type": "code",
   "execution_count": 113,
   "metadata": {},
   "outputs": [
    {
     "data": {
      "text/html": [
       "<div>\n",
       "<style scoped>\n",
       "    .dataframe tbody tr th:only-of-type {\n",
       "        vertical-align: middle;\n",
       "    }\n",
       "\n",
       "    .dataframe tbody tr th {\n",
       "        vertical-align: top;\n",
       "    }\n",
       "\n",
       "    .dataframe thead th {\n",
       "        text-align: right;\n",
       "    }\n",
       "</style>\n",
       "<table border=\"1\" class=\"dataframe\">\n",
       "  <thead>\n",
       "    <tr style=\"text-align: right;\">\n",
       "      <th></th>\n",
       "      <th>cotacaoCompra</th>\n",
       "      <th>cotacaoVenda</th>\n",
       "      <th>dataHoraCotacao</th>\n",
       "    </tr>\n",
       "  </thead>\n",
       "  <tbody>\n",
       "    <tr>\n",
       "      <th>5116</th>\n",
       "      <td>5.8223</td>\n",
       "      <td>5.8229</td>\n",
       "      <td>2020-05-15 13:07:28.264</td>\n",
       "    </tr>\n",
       "    <tr>\n",
       "      <th>5117</th>\n",
       "      <td>5.7369</td>\n",
       "      <td>5.7375</td>\n",
       "      <td>2020-05-18 13:03:30.159</td>\n",
       "    </tr>\n",
       "    <tr>\n",
       "      <th>5118</th>\n",
       "      <td>5.7210</td>\n",
       "      <td>5.7216</td>\n",
       "      <td>2020-05-19 13:09:50.154</td>\n",
       "    </tr>\n",
       "    <tr>\n",
       "      <th>5119</th>\n",
       "      <td>5.6962</td>\n",
       "      <td>5.6968</td>\n",
       "      <td>2020-05-20 13:11:28.89</td>\n",
       "    </tr>\n",
       "    <tr>\n",
       "      <th>5120</th>\n",
       "      <td>5.6013</td>\n",
       "      <td>5.6019</td>\n",
       "      <td>2020-05-21 13:02:36.901</td>\n",
       "    </tr>\n",
       "  </tbody>\n",
       "</table>\n",
       "</div>"
      ],
      "text/plain": [
       "      cotacaoCompra  cotacaoVenda          dataHoraCotacao\n",
       "5116         5.8223        5.8229  2020-05-15 13:07:28.264\n",
       "5117         5.7369        5.7375  2020-05-18 13:03:30.159\n",
       "5118         5.7210        5.7216  2020-05-19 13:09:50.154\n",
       "5119         5.6962        5.6968   2020-05-20 13:11:28.89\n",
       "5120         5.6013        5.6019  2020-05-21 13:02:36.901"
      ]
     },
     "execution_count": 113,
     "metadata": {},
     "output_type": "execute_result"
    }
   ],
   "source": [
    "dolar_df.tail()"
   ]
  },
  {
   "cell_type": "code",
   "execution_count": null,
   "metadata": {},
   "outputs": [],
   "source": [
    "# selic"
   ]
  },
  {
   "cell_type": "code",
   "execution_count": 4,
   "metadata": {
    "ExecuteTime": {
     "end_time": "2020-05-24T16:20:29.462591Z",
     "start_time": "2020-05-24T16:20:28.760154Z"
    }
   },
   "outputs": [],
   "source": [
    "url_selic = 'https://www.bcb.gov.br/controleinflacao/historicotaxasjuros'\n",
    "request = requests.get(url_selic)"
   ]
  },
  {
   "cell_type": "code",
   "execution_count": 5,
   "metadata": {
    "ExecuteTime": {
     "end_time": "2020-05-24T16:20:29.501360Z",
     "start_time": "2020-05-24T16:20:29.462591Z"
    }
   },
   "outputs": [
    {
     "data": {
      "text/plain": [
       "'<!doctype html>\\r\\n\\r\\n<html lang=\"pt-br\">\\r\\n\\r\\n<head>\\r\\n\\t<meta http-equiv=\"X-UA-Compatible\" content=\"IE=edge\" />\\r\\n\\t<meta charset=\"utf-8\">\\r\\n\\t<base href=\"https://www.bcb.gov.br/\">\\n\\r\\n\\t<title>Banco Central do Brasil</title>\\r\\n\\r\\n\\t<meta name=\"description\" content=\"Banco Central do Brasil\">\\r\\n\\t<meta name=\"viewport\" content=\"width=device-width, initial-scale=1\">\\r\\n\\t<meta name=\"robots\" content=\"index, follow\" />\\r\\n\\t<meta name=\"AdsBot-Google\" content=\"noindex\" />\\r\\n\\t<meta name=\"theme-color\" content=\"#025c75\" />\\r\\n\\t<meta name=\"google-site-verification\" content=\"HrSauVp28E-CmIunToYrF1-gaMfDbWESxMFUDXFMqPA\" />\\r\\n\\r\\n\\t<link rel=\"alternate\" hreflang=\"pt\" href=\"/\">\\r\\n\\t<link rel=\"alternate\" hreflang=\"en\" href=\"/en/\">\\r\\n\\t<link rel=\"canonical\" href=\"/\" />\\r\\n\\t<link rel=\"icon\" type=\"image/x-icon\" href=\"/favicon.ico\">\\r\\n\\r\\n\\t<!-- diz ao servidor que futuras conexoes ira usar -->\\r\\n\\t<link rel=\"preconnect\" href=\"https://fonts.gstatic.com/\" crossorigin>\\r\\n\\t<link rel=\"preconnect\" href=\"https://www.google-analytics.com\" crossorigin>\\r\\n\\r\\n\\t<!-- css -->\\r\\n\\t<link rel=\"preload\" href=\"/assets/fonts/iconic/iconic-lg.woff\" as=\"font\" type=\"font/woff\" crossorigin>\\r\\n\\t<link rel=\"preload\" href=\"/assets/fonts/iconic/iconic-md.woff\" as=\"font\" type=\"font/woff\" crossorigin>\\r\\n\\t<link rel=\"preload\" href=\"/assets/fonts/iconic/iconic-sm.woff\" as=\"font\" type=\"font/woff\" crossorigin>\\r\\n\\t<link rel=\"preload\" href=\"/assets/fonts/iconic/iconic-sm.ttf\" as=\"font\" type=\"font/ttf\" crossorigin>\\r\\n\\t<link rel=\"preload\" href=\"/assets/fonts/iconic/iconic-md.ttf\" as=\"font\" type=\"font/ttf\" crossorigin>\\r\\n\\t<link rel=\"preload\" href=\"/assets/fonts/iconic/iconic-lg.ttf\" as=\"font\" type=\"font/ttf\" crossorigin>\\r\\n\\r\\n\\t<link rel=\"stylesheet\" href=\"https://fonts.googleapis.com/css?family=Cormorant+Garamond:300,300i,400,400i,500,500i,600,600i,700,700i&display=swap\" lazyload>\\r\\n\\t<link rel=\"stylesheet\" href=\"https://fonts.googleapis.com/css?family=Ubuntu:300,300i,400,400i,500,500i,700,700i&display=swap\" lazyload>\\r\\n\\t<!-- production -->\\r\\n<link rel=\"stylesheet\" href=\"https://www.bcb.gov.br/styles.1f9ba79385903f3690f3.css\"></head>\\r\\n\\r\\n<body>\\r\\n\\t<noscript>Essa pagina depende do javascript para abrir, favor habilitar o javascript do seu browser!</noscript>\\r\\n\\t<app-root></app-root>\\r\\n\\t<script src=\"https://www.googletagmanager.com/gtag/js?id=UA-65460906-3\" async></script>\\r\\n\\t<script src=\"/assets/js/gtag.js\" async></script>\\r\\n\\t<script src=\"/assets/js/gtm.js\" async></script>\\r\\n\\t<!-- <script src=\"/assets/js/webchat.js\" defer></script> -->\\r\\n<script src=\"https://www.bcb.gov.br/runtime-es2015.65b795c769f5e385de45.js\" type=\"module\"></script><script src=\"https://www.bcb.gov.br/runtime-es5.65b795c769f5e385de45.js\" nomodule defer></script><script src=\"https://www.bcb.gov.br/polyfills-es5.4b6e0c7adfacd6dc1990.js\" nomodule defer></script><script src=\"https://www.bcb.gov.br/polyfills-es2015.f98d8cd976e6cab150f8.js\" type=\"module\"></script><script src=\"https://www.bcb.gov.br/scripts.376be1471b020a6f922e.js\" defer></script><script src=\"https://www.bcb.gov.br/vendor-es2015.0b63a81b427d33d0f87e.js\" type=\"module\"></script><script src=\"https://www.bcb.gov.br/vendor-es5.0b63a81b427d33d0f87e.js\" nomodule defer></script><script src=\"https://www.bcb.gov.br/main-es2015.95218c959cb9cd775819.js\" type=\"module\"></script><script src=\"https://www.bcb.gov.br/main-es5.95218c959cb9cd775819.js\" nomodule defer></script></body>\\r\\n\\r\\n</html><script id=\"f5_cspm\">(function(){var f5_cspm={f5_p:\\'MJAFPDAOEEDOEKIPHDPAHCKHGLKJNCCGGCJLOCHEKAEOACOEPOPLMLEMKDFMAPDGIOOBBMJAGDPHFEGMCCDAFABCEKLONMFLHHFCFEJLOMIPOGMNDCOKHJBKOOHONLIF\\',setCharAt:function(str,index,chr){if(index>str.length-1)return str;return str.substr(0,index)+chr+str.substr(index+1);},get_byte:function(str,i){var s=(i/16)|0;i=(i&15);s=s*32;return((str.charCodeAt(i+16+s)-65)<<4)|(str.charCodeAt(i+s)-65);},set_byte:function(str,i,b){var s=(i/16)|0;i=(i&15);s=s*32;str=f5_cspm.setCharAt(str,(i+16+s),String.fromCharCode((b>>4)+65));str=f5_cspm.setCharAt(str,(i+s),String.fromCharCode((b&15)+65));return str;},set_latency:function(str,latency){latency=latency&0xffff;str=f5_cspm.set_byte(str,40,(latency>>8));str=f5_cspm.set_byte(str,41,(latency&0xff));str=f5_cspm.set_byte(str,35,2);return str;},wait_perf_data:function(){try{var wp=window.performance.timing;if(wp.loadEventEnd>0){var res=wp.loadEventEnd-wp.navigationStart;if(res<60001){var cookie_val=f5_cspm.set_latency(f5_cspm.f5_p,res);window.document.cookie=\\'f5avr0883722387aaaaaaaaaaaaaaaa=\\'+encodeURIComponent(cookie_val)+\\';path=/\\';}\\nreturn;}}\\ncatch(err){return;}\\nsetTimeout(f5_cspm.wait_perf_data,100);return;},go:function(){var chunk=window.document.cookie.split(/\\\\s*;\\\\s*/);for(var i=0;i<chunk.length;++i){var pair=chunk[i].split(/\\\\s*=\\\\s*/);if(pair[0]==\\'f5_cspm\\'&&pair[1]==\\'1234\\')\\n{var d=new Date();d.setTime(d.getTime()-1000);window.document.cookie=\\'f5_cspm=;expires=\\'+d.toUTCString()+\\';path=/;\\';setTimeout(f5_cspm.wait_perf_data,100);}}}}\\nf5_cspm.go();}());</script>'"
      ]
     },
     "execution_count": 5,
     "metadata": {},
     "output_type": "execute_result"
    }
   ],
   "source": [
    "request.text"
   ]
  },
  {
   "cell_type": "code",
   "execution_count": 6,
   "metadata": {
    "ExecuteTime": {
     "end_time": "2020-05-24T16:20:30.135041Z",
     "start_time": "2020-05-24T16:20:30.123073Z"
    }
   },
   "outputs": [],
   "source": [
    "soup = BeautifulSoup(request.text, 'html.parser')"
   ]
  },
  {
   "cell_type": "code",
   "execution_count": 9,
   "metadata": {
    "ExecuteTime": {
     "end_time": "2020-05-24T16:21:28.065296Z",
     "start_time": "2020-05-24T16:21:28.058316Z"
    }
   },
   "outputs": [
    {
     "data": {
      "text/plain": [
       "[<head>\n",
       " <meta content=\"IE=edge\" http-equiv=\"X-UA-Compatible\"/>\n",
       " <meta charset=\"utf-8\"/>\n",
       " <base href=\"https://www.bcb.gov.br/\"/>\n",
       " <title>Banco Central do Brasil</title>\n",
       " <meta content=\"Banco Central do Brasil\" name=\"description\"/>\n",
       " <meta content=\"width=device-width, initial-scale=1\" name=\"viewport\"/>\n",
       " <meta content=\"index, follow\" name=\"robots\">\n",
       " <meta content=\"noindex\" name=\"AdsBot-Google\">\n",
       " <meta content=\"#025c75\" name=\"theme-color\">\n",
       " <meta content=\"HrSauVp28E-CmIunToYrF1-gaMfDbWESxMFUDXFMqPA\" name=\"google-site-verification\"/>\n",
       " <link href=\"/\" hreflang=\"pt\" rel=\"alternate\"/>\n",
       " <link href=\"/en/\" hreflang=\"en\" rel=\"alternate\"/>\n",
       " <link href=\"/\" rel=\"canonical\">\n",
       " <link href=\"/favicon.ico\" rel=\"icon\" type=\"image/x-icon\"/>\n",
       " <!-- diz ao servidor que futuras conexoes ira usar -->\n",
       " <link crossorigin=\"\" href=\"https://fonts.gstatic.com/\" rel=\"preconnect\"/>\n",
       " <link crossorigin=\"\" href=\"https://www.google-analytics.com\" rel=\"preconnect\"/>\n",
       " <!-- css -->\n",
       " <link as=\"font\" crossorigin=\"\" href=\"/assets/fonts/iconic/iconic-lg.woff\" rel=\"preload\" type=\"font/woff\"/>\n",
       " <link as=\"font\" crossorigin=\"\" href=\"/assets/fonts/iconic/iconic-md.woff\" rel=\"preload\" type=\"font/woff\"/>\n",
       " <link as=\"font\" crossorigin=\"\" href=\"/assets/fonts/iconic/iconic-sm.woff\" rel=\"preload\" type=\"font/woff\"/>\n",
       " <link as=\"font\" crossorigin=\"\" href=\"/assets/fonts/iconic/iconic-sm.ttf\" rel=\"preload\" type=\"font/ttf\"/>\n",
       " <link as=\"font\" crossorigin=\"\" href=\"/assets/fonts/iconic/iconic-md.ttf\" rel=\"preload\" type=\"font/ttf\"/>\n",
       " <link as=\"font\" crossorigin=\"\" href=\"/assets/fonts/iconic/iconic-lg.ttf\" rel=\"preload\" type=\"font/ttf\"/>\n",
       " <link href=\"https://fonts.googleapis.com/css?family=Cormorant+Garamond:300,300i,400,400i,500,500i,600,600i,700,700i&amp;display=swap\" lazyload=\"\" rel=\"stylesheet\"/>\n",
       " <link href=\"https://fonts.googleapis.com/css?family=Ubuntu:300,300i,400,400i,500,500i,700,700i&amp;display=swap\" lazyload=\"\" rel=\"stylesheet\"/>\n",
       " <!-- production -->\n",
       " <link href=\"https://www.bcb.gov.br/styles.1f9ba79385903f3690f3.css\" rel=\"stylesheet\"/></link></meta></meta></meta></head>]"
      ]
     },
     "execution_count": 9,
     "metadata": {},
     "output_type": "execute_result"
    }
   ],
   "source": [
    "soup.findAll(name='head')"
   ]
  },
  {
   "cell_type": "code",
   "execution_count": 135,
   "metadata": {},
   "outputs": [
    {
     "data": {
      "text/plain": [
       "[]"
      ]
     },
     "execution_count": 135,
     "metadata": {},
     "output_type": "execute_result"
    }
   ],
   "source": [
    "selic_body.findAll(name='div')"
   ]
  },
  {
   "cell_type": "code",
   "execution_count": null,
   "metadata": {},
   "outputs": [],
   "source": [
    "# ipca"
   ]
  },
  {
   "cell_type": "code",
   "execution_count": 114,
   "metadata": {},
   "outputs": [],
   "source": [
    "def extract_ipca():\n",
    "    url_ipca = 'http://api.bcb.gov.br/dados/serie/bcdata.sgs.4447/dados?formato=csv'\n",
    "    return pd.read_csv(url_ipca, sep=';', decimal=',')"
   ]
  },
  {
   "cell_type": "code",
   "execution_count": 115,
   "metadata": {},
   "outputs": [],
   "source": [
    "ipca_df = extract_ipca()"
   ]
  },
  {
   "cell_type": "code",
   "execution_count": 116,
   "metadata": {},
   "outputs": [
    {
     "data": {
      "text/html": [
       "<div>\n",
       "<style scoped>\n",
       "    .dataframe tbody tr th:only-of-type {\n",
       "        vertical-align: middle;\n",
       "    }\n",
       "\n",
       "    .dataframe tbody tr th {\n",
       "        vertical-align: top;\n",
       "    }\n",
       "\n",
       "    .dataframe thead th {\n",
       "        text-align: right;\n",
       "    }\n",
       "</style>\n",
       "<table border=\"1\" class=\"dataframe\">\n",
       "  <thead>\n",
       "    <tr style=\"text-align: right;\">\n",
       "      <th></th>\n",
       "      <th>data</th>\n",
       "      <th>valor</th>\n",
       "    </tr>\n",
       "  </thead>\n",
       "  <tbody>\n",
       "    <tr>\n",
       "      <th>335</th>\n",
       "      <td>01/12/2019</td>\n",
       "      <td>1.94</td>\n",
       "    </tr>\n",
       "    <tr>\n",
       "      <th>336</th>\n",
       "      <td>01/01/2020</td>\n",
       "      <td>-0.28</td>\n",
       "    </tr>\n",
       "    <tr>\n",
       "      <th>337</th>\n",
       "      <td>01/02/2020</td>\n",
       "      <td>0.02</td>\n",
       "    </tr>\n",
       "    <tr>\n",
       "      <th>338</th>\n",
       "      <td>01/03/2020</td>\n",
       "      <td>0.14</td>\n",
       "    </tr>\n",
       "    <tr>\n",
       "      <th>339</th>\n",
       "      <td>01/04/2020</td>\n",
       "      <td>-0.25</td>\n",
       "    </tr>\n",
       "  </tbody>\n",
       "</table>\n",
       "</div>"
      ],
      "text/plain": [
       "           data  valor\n",
       "335  01/12/2019   1.94\n",
       "336  01/01/2020  -0.28\n",
       "337  01/02/2020   0.02\n",
       "338  01/03/2020   0.14\n",
       "339  01/04/2020  -0.25"
      ]
     },
     "execution_count": 116,
     "metadata": {},
     "output_type": "execute_result"
    }
   ],
   "source": [
    "ipca_df.tail()"
   ]
  },
  {
   "cell_type": "markdown",
   "metadata": {},
   "source": [
    "- Amostra dos dados, contendo apenas a empresa ITUB4 e o primeiro semestre de 2019."
   ]
  },
  {
   "cell_type": "code",
   "execution_count": null,
   "metadata": {},
   "outputs": [],
   "source": []
  }
 ],
 "metadata": {
  "kernelspec": {
   "display_name": "Python 3",
   "language": "python",
   "name": "python3"
  },
  "language_info": {
   "codemirror_mode": {
    "name": "ipython",
    "version": 3
   },
   "file_extension": ".py",
   "mimetype": "text/x-python",
   "name": "python",
   "nbconvert_exporter": "python",
   "pygments_lexer": "ipython3",
   "version": "3.7.6"
  },
  "toc": {
   "base_numbering": 1,
   "nav_menu": {},
   "number_sections": true,
   "sideBar": true,
   "skip_h1_title": false,
   "title_cell": "Table of Contents",
   "title_sidebar": "Contents",
   "toc_cell": false,
   "toc_position": {},
   "toc_section_display": true,
   "toc_window_display": false
  }
 },
 "nbformat": 4,
 "nbformat_minor": 2
}
